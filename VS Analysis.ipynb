{
 "cells": [
  {
   "cell_type": "code",
   "execution_count": 63,
   "metadata": {},
   "outputs": [],
   "source": [
    "import csv\n",
    "import pandas as pd\n",
    "from collections import defaultdict\n",
    "from prettytable import PrettyTable"
   ]
  },
  {
   "cell_type": "markdown",
   "metadata": {},
   "source": [
    "### Read in CSV Data"
   ]
  },
  {
   "cell_type": "code",
   "execution_count": 64,
   "metadata": {},
   "outputs": [],
   "source": [
    "with open('Game Grumps VS data.csv') as csv_file:\n",
    "    csv_data = [line for line in csv.reader(csv_file)]\n",
    "    \n",
    "    csv_df = pd.DataFrame(csv_data[1:], columns=csv_data[0])\n",
    "    \n",
    "    csv_df['Loser(s)'] = csv_df['Loser(s)'].map(lambda s: [loser.strip() for loser in s.split(';')])"
   ]
  },
  {
   "cell_type": "code",
   "execution_count": 65,
   "metadata": {},
   "outputs": [
    {
     "data": {
      "text/html": [
       "<div>\n",
       "<style scoped>\n",
       "    .dataframe tbody tr th:only-of-type {\n",
       "        vertical-align: middle;\n",
       "    }\n",
       "\n",
       "    .dataframe tbody tr th {\n",
       "        vertical-align: top;\n",
       "    }\n",
       "\n",
       "    .dataframe thead th {\n",
       "        text-align: right;\n",
       "    }\n",
       "</style>\n",
       "<table border=\"1\" class=\"dataframe\">\n",
       "  <thead>\n",
       "    <tr style=\"text-align: right;\">\n",
       "      <th></th>\n",
       "      <th>Winner</th>\n",
       "      <th>Loser(s)</th>\n",
       "      <th>Game</th>\n",
       "      <th>Episode-Id</th>\n",
       "      <th>Notes</th>\n",
       "    </tr>\n",
       "  </thead>\n",
       "  <tbody>\n",
       "    <tr>\n",
       "      <th>0</th>\n",
       "      <td>Jon</td>\n",
       "      <td>[Arin]</td>\n",
       "      <td>Super Smash Bros. Brawl</td>\n",
       "      <td>uiofcRg6XEo</td>\n",
       "      <td>Arin is red</td>\n",
       "    </tr>\n",
       "    <tr>\n",
       "      <th>1</th>\n",
       "      <td>Arin</td>\n",
       "      <td>[Jon]</td>\n",
       "      <td>Super Smash Bros. Brawl</td>\n",
       "      <td>uiofcRg6XEo</td>\n",
       "      <td></td>\n",
       "    </tr>\n",
       "    <tr>\n",
       "      <th>2</th>\n",
       "      <td>Jon</td>\n",
       "      <td>[Arin]</td>\n",
       "      <td>Super Smash Bros. Brawl</td>\n",
       "      <td>uiofcRg6XEo</td>\n",
       "      <td></td>\n",
       "    </tr>\n",
       "    <tr>\n",
       "      <th>3</th>\n",
       "      <td>Arin</td>\n",
       "      <td>[Jon]</td>\n",
       "      <td>Super Smash Bros. Brawl</td>\n",
       "      <td>uiofcRg6XEo</td>\n",
       "      <td></td>\n",
       "    </tr>\n",
       "    <tr>\n",
       "      <th>4</th>\n",
       "      <td>Arin</td>\n",
       "      <td>[Jon]</td>\n",
       "      <td>Super Smash Bros. Brawl</td>\n",
       "      <td>uiofcRg6XEo</td>\n",
       "      <td></td>\n",
       "    </tr>\n",
       "    <tr>\n",
       "      <th>...</th>\n",
       "      <td>...</td>\n",
       "      <td>...</td>\n",
       "      <td>...</td>\n",
       "      <td>...</td>\n",
       "      <td>...</td>\n",
       "    </tr>\n",
       "    <tr>\n",
       "      <th>152</th>\n",
       "      <td>Jon</td>\n",
       "      <td>[Arin]</td>\n",
       "      <td>Puyo Pop Fever</td>\n",
       "      <td>_MIMm3OCZXA</td>\n",
       "      <td></td>\n",
       "    </tr>\n",
       "    <tr>\n",
       "      <th>153</th>\n",
       "      <td>Arin</td>\n",
       "      <td>[Jon]</td>\n",
       "      <td>Puyo Pop Fever</td>\n",
       "      <td>_MIMm3OCZXA</td>\n",
       "      <td></td>\n",
       "    </tr>\n",
       "    <tr>\n",
       "      <th>154</th>\n",
       "      <td>Jon</td>\n",
       "      <td>[Arin]</td>\n",
       "      <td>Puyo Pop Fever</td>\n",
       "      <td>_MIMm3OCZXA</td>\n",
       "      <td></td>\n",
       "    </tr>\n",
       "    <tr>\n",
       "      <th>155</th>\n",
       "      <td>Arin</td>\n",
       "      <td>[Jon]</td>\n",
       "      <td>Puyo Pop Fever</td>\n",
       "      <td>_MIMm3OCZXA</td>\n",
       "      <td></td>\n",
       "    </tr>\n",
       "    <tr>\n",
       "      <th>156</th>\n",
       "      <td>Arin</td>\n",
       "      <td>[Jon]</td>\n",
       "      <td>World Driver Championship</td>\n",
       "      <td>DH8bqNsIw30</td>\n",
       "      <td></td>\n",
       "    </tr>\n",
       "  </tbody>\n",
       "</table>\n",
       "<p>157 rows × 5 columns</p>\n",
       "</div>"
      ],
      "text/plain": [
       "    Winner Loser(s)                       Game   Episode-Id        Notes\n",
       "0      Jon   [Arin]    Super Smash Bros. Brawl  uiofcRg6XEo  Arin is red\n",
       "1     Arin    [Jon]    Super Smash Bros. Brawl  uiofcRg6XEo             \n",
       "2      Jon   [Arin]    Super Smash Bros. Brawl  uiofcRg6XEo             \n",
       "3     Arin    [Jon]    Super Smash Bros. Brawl  uiofcRg6XEo             \n",
       "4     Arin    [Jon]    Super Smash Bros. Brawl  uiofcRg6XEo             \n",
       "..     ...      ...                        ...          ...          ...\n",
       "152    Jon   [Arin]             Puyo Pop Fever  _MIMm3OCZXA             \n",
       "153   Arin    [Jon]             Puyo Pop Fever  _MIMm3OCZXA             \n",
       "154    Jon   [Arin]             Puyo Pop Fever  _MIMm3OCZXA             \n",
       "155   Arin    [Jon]             Puyo Pop Fever  _MIMm3OCZXA             \n",
       "156   Arin    [Jon]  World Driver Championship  DH8bqNsIw30             \n",
       "\n",
       "[157 rows x 5 columns]"
      ]
     },
     "execution_count": 65,
     "metadata": {},
     "output_type": "execute_result"
    }
   ],
   "source": [
    "csv_df"
   ]
  },
  {
   "cell_type": "code",
   "execution_count": 66,
   "metadata": {},
   "outputs": [
    {
     "name": "stdout",
     "output_type": "stream",
     "text": [
      "['Jon', 'Arin', 'Danny', 'Barry', 'AI', 'Ross', 'Susy', 'Jacob Anderson', 'Finn Wolfhard']\n"
     ]
    }
   ],
   "source": [
    "competitors = list(\n",
    "    filter(\n",
    "        lambda item: item and '(' not in item,\n",
    "        csv_df['Winner'].append(csv_df.explode('Loser(s)')['Loser(s)']).unique()\n",
    "    )\n",
    ")\n",
    "print(competitors)"
   ]
  },
  {
   "cell_type": "code",
   "execution_count": 67,
   "metadata": {},
   "outputs": [],
   "source": [
    "competitor_data = {competitor: {'wins':0, 'games':0, 'won_vs':defaultdict(lambda: 0)} for competitor in competitors}\n",
    "for i, match in csv_df.iterrows():\n",
    "    winner = match['Winner']\n",
    "    # TODO: add in ignoring AI in favor of top place human\n",
    "    if 'AI' in winner:\n",
    "        winner = 'AI'\n",
    "    # TODO: Don't skip ties\n",
    "    elif 'Tie' in winner:\n",
    "        continue\n",
    "    competitor_data[winner]['wins']+=1\n",
    "    competitor_data[winner]['games']+=1\n",
    "    for loser in match['Loser(s)']:\n",
    "        competitor_data[loser]['games']+=1\n",
    "        competitor_data[winner]['won_vs'][loser]+=1"
   ]
  },
  {
   "cell_type": "code",
   "execution_count": 72,
   "metadata": {},
   "outputs": [
    {
     "name": "stdout",
     "output_type": "stream",
     "text": [
      "+----------------+------+--------------+----------+\n",
      "|   Competitor   | Wins | Games Played | Win Rate |\n",
      "+----------------+------+--------------+----------+\n",
      "|      Jon       |  70  |     146      |  47.95   |\n",
      "|      Arin      |  69  |     156      |  44.23   |\n",
      "|     Danny      |  3   |      9       |  33.33   |\n",
      "|     Barry      |  1   |      1       |  100.0   |\n",
      "|       AI       |  13  |      26      |   50.0   |\n",
      "|      Ross      |  0   |      1       |   0.0    |\n",
      "|      Susy      |  0   |      1       |   0.0    |\n",
      "| Jacob Anderson |  0   |      1       |   0.0    |\n",
      "| Finn Wolfhard  |  0   |      1       |   0.0    |\n",
      "+----------------+------+--------------+----------+\n"
     ]
    }
   ],
   "source": [
    "table = PrettyTable(['Competitor','Wins','Games Played', 'Win Rate'])\n",
    "for competitor, data in competitor_data.items():\n",
    "    win_rate = round(data['wins'] / data['games'] * 100, 2)\n",
    "    table.add_row([competitor, data['wins'], data['games'], win_rate])\n",
    "print(table)"
   ]
  },
  {
   "cell_type": "code",
   "execution_count": 81,
   "metadata": {},
   "outputs": [
    {
     "name": "stdout",
     "output_type": "stream",
     "text": [
      "+----------------------+----+------+-------+-------+---------------+----------------+-----+------+------+\n",
      "| vv Winner \\ Loser -> | AI | Arin | Barry | Danny | Finn Wolfhard | Jacob Anderson | Jon | Ross | Susy |\n",
      "+----------------------+----+------+-------+-------+---------------+----------------+-----+------+------+\n",
      "|          AI          | X  |  13  |   0   |   1   |       0       |       0        |  12 |  0   |  0   |\n",
      "|         Arin         | 5  |  X   |   0   |   5   |       1       |       1        |  64 |  0   |  0   |\n",
      "|        Barry         | 0  |  1   |   X   |   0   |       0       |       0        |  0  |  1   |  1   |\n",
      "|        Danny         | 0  |  3   |   0   |   X   |       0       |       0        |  0  |  0   |  0   |\n",
      "|    Finn Wolfhard     | 0  |  0   |   0   |   0   |       X       |       0        |  0  |  0   |  0   |\n",
      "|    Jacob Anderson    | 0  |  0   |   0   |   0   |       0       |       X        |  0  |  0   |  0   |\n",
      "|         Jon          | 8  |  70  |   0   |   0   |       0       |       0        |  X  |  0   |  0   |\n",
      "|         Ross         | 0  |  0   |   0   |   0   |       0       |       0        |  0  |  X   |  0   |\n",
      "|         Susy         | 0  |  0   |   0   |   0   |       0       |       0        |  0  |  0   |  X   |\n",
      "+----------------------+----+------+-------+-------+---------------+----------------+-----+------+------+\n"
     ]
    }
   ],
   "source": [
    "table = PrettyTable(['vv Winner \\ Loser ->'] + sorted(competitors))\n",
    "for competitor in sorted(competitor_data):\n",
    "    row = []\n",
    "    for competitor_2 in sorted(competitors):\n",
    "        if competitor == competitor_2:\n",
    "            row.append('X')\n",
    "        else:\n",
    "            row.append(competitor_data[competitor]['won_vs'][competitor_2])\n",
    "    table.add_row([competitor] + row)\n",
    "print(table)"
   ]
  },
  {
   "cell_type": "code",
   "execution_count": 77,
   "metadata": {},
   "outputs": [
    {
     "name": "stdout",
     "output_type": "stream",
     "text": [
      "AI\n",
      "Arin\n",
      "Barry\n",
      "Danny\n",
      "Finn Wolfhard\n",
      "Jacob Anderson\n",
      "Jon\n",
      "Ross\n",
      "Susy\n"
     ]
    }
   ],
   "source": []
  },
  {
   "cell_type": "code",
   "execution_count": null,
   "metadata": {},
   "outputs": [],
   "source": []
  }
 ],
 "metadata": {
  "kernelspec": {
   "display_name": "Python 3",
   "language": "python",
   "name": "python3"
  },
  "language_info": {
   "codemirror_mode": {
    "name": "ipython",
    "version": 3
   },
   "file_extension": ".py",
   "mimetype": "text/x-python",
   "name": "python",
   "nbconvert_exporter": "python",
   "pygments_lexer": "ipython3",
   "version": "3.7.6"
  }
 },
 "nbformat": 4,
 "nbformat_minor": 4
}
